{
 "cells": [
  {
   "cell_type": "code",
   "execution_count": 1,
   "metadata": {},
   "outputs": [
    {
     "name": "stdout",
     "output_type": "stream",
     "text": [
      "[0 1 2 3 4 5 6 7 8 9]\n",
      "<class 'numpy.ndarray'>\n"
     ]
    }
   ],
   "source": [
    "import numpy as np, pandas as pd\n",
    "\n",
    "arr1 = np.arange(10)\n",
    "print(arr1)\n",
    "print(type(arr1))"
   ]
  },
  {
   "cell_type": "code",
   "execution_count": 4,
   "metadata": {},
   "outputs": [
    {
     "name": "stdout",
     "output_type": "stream",
     "text": [
      "0    0\n",
      "1    1\n",
      "2    2\n",
      "3    3\n",
      "4    4\n",
      "5    5\n",
      "6    6\n",
      "7    7\n",
      "8    8\n",
      "9    9\n",
      "dtype: int64\n",
      "<class 'pandas.core.series.Series'>\n"
     ]
    }
   ],
   "source": [
    "s1 = pd.Series(arr1)\n",
    "print(s1)\n",
    "print(type(s1))"
   ]
  },
  {
   "cell_type": "code",
   "execution_count": 5,
   "metadata": {},
   "outputs": [
    {
     "name": "stdout",
     "output_type": "stream",
     "text": [
      "{'a': 10, 'b': 20, 'c': 30, 'd': 40, 'e': 50}\n",
      "<class 'dict'>\n"
     ]
    }
   ],
   "source": [
    "dic1 = {'a':10,'b':20,'c':30,'d':40,'e':50}\n",
    "print(dic1)\n",
    "print(type(dic1))"
   ]
  },
  {
   "cell_type": "code",
   "execution_count": 10,
   "metadata": {},
   "outputs": [
    {
     "name": "stdout",
     "output_type": "stream",
     "text": [
      "a    10\n",
      "b    20\n",
      "c    30\n",
      "d    40\n",
      "e    50\n",
      "dtype: int64\n",
      "<class 'pandas.core.series.Series'>\n"
     ]
    }
   ],
   "source": [
    "s2 = pd.Series(dic1)\n",
    "print(s2)\n",
    "print(type(s2))"
   ]
  },
  {
   "cell_type": "code",
   "execution_count": 6,
   "metadata": {},
   "outputs": [
    {
     "name": "stdout",
     "output_type": "stream",
     "text": [
      "[[ 0  1  2]\n",
      " [ 3  4  5]\n",
      " [ 6  7  8]\n",
      " [ 9 10 11]]\n",
      "<class 'numpy.ndarray'>\n"
     ]
    }
   ],
   "source": [
    "arr2 = np.array(np.arange(12)).reshape(4,3)\n",
    "print(arr2)\n",
    "print(type(arr2))"
   ]
  },
  {
   "cell_type": "code",
   "execution_count": 7,
   "metadata": {},
   "outputs": [
    {
     "name": "stdout",
     "output_type": "stream",
     "text": [
      "   0   1   2\n",
      "0  0   1   2\n",
      "1  3   4   5\n",
      "2  6   7   8\n",
      "3  9  10  11\n",
      "<class 'pandas.core.frame.DataFrame'>\n"
     ]
    }
   ],
   "source": [
    "df1 = pd.DataFrame(arr2)\n",
    "print(df1)\n",
    "print(type(df1))"
   ]
  },
  {
   "cell_type": "code",
   "execution_count": 8,
   "metadata": {},
   "outputs": [
    {
     "name": "stdout",
     "output_type": "stream",
     "text": [
      "{'a': [1, 2, 3, 4], 'b': [5, 6, 7, 8], 'c': [9, 10, 11, 12], 'd': [13, 14, 15, 16]}\n",
      "<class 'dict'>\n"
     ]
    }
   ],
   "source": [
    "dic2 = {'a':[1,2,3,4],'b':[5,6,7,8],'c':[9,10,11,12],'d':[13,14,15,16]}\n",
    "print(dic2)\n",
    "print(type(dic2))"
   ]
  },
  {
   "cell_type": "code",
   "execution_count": 9,
   "metadata": {},
   "outputs": [
    {
     "name": "stdout",
     "output_type": "stream",
     "text": [
      "   a  b   c   d\n",
      "0  1  5   9  13\n",
      "1  2  6  10  14\n",
      "2  3  7  11  15\n",
      "3  4  8  12  16\n",
      "<class 'pandas.core.frame.DataFrame'>\n"
     ]
    }
   ],
   "source": [
    "df2 = pd.DataFrame(dic2)\n",
    "print(df2)\n",
    "print(type(df2))"
   ]
  },
  {
   "cell_type": "code",
   "execution_count": 11,
   "metadata": {},
   "outputs": [
    {
     "name": "stdout",
     "output_type": "stream",
     "text": [
      "{'one': {'a': 1, 'b': 2, 'c': 3, 'd': 4}, 'two': {'a': 5, 'b': 6, 'c': 7, 'd': 8}, 'three': {'a': 9, 'b': 10, 'c': 11, 'd': 12}}\n",
      "<class 'dict'>\n"
     ]
    }
   ],
   "source": [
    "dic3 = {'one':{'a':1,'b':2,'c':3,'d':4},'two':{'a':5,'b':6,'c':7,'d':8},'three':{'a':9,'b':10,'c':11,'d':12}}\n",
    "print(dic3)\n",
    "print(type(dic3))"
   ]
  },
  {
   "cell_type": "code",
   "execution_count": 12,
   "metadata": {},
   "outputs": [
    {
     "name": "stdout",
     "output_type": "stream",
     "text": [
      "   one  two  three\n",
      "a    1    5      9\n",
      "b    2    6     10\n",
      "c    3    7     11\n",
      "d    4    8     12\n",
      "<class 'pandas.core.frame.DataFrame'>\n"
     ]
    }
   ],
   "source": [
    "df3 = pd.DataFrame(dic3)\n",
    "print(df3)\n",
    "print(type(df3))"
   ]
  },
  {
   "cell_type": "code",
   "execution_count": 13,
   "metadata": {},
   "outputs": [
    {
     "name": "stdout",
     "output_type": "stream",
     "text": [
      "   one  three\n",
      "a    1      9\n",
      "b    2     10\n",
      "c    3     11\n",
      "d    4     12\n",
      "<class 'pandas.core.frame.DataFrame'>\n"
     ]
    }
   ],
   "source": [
    "df4 = df3[['one','three']]\n",
    "print(df4)\n",
    "print(type(df4))"
   ]
  },
  {
   "cell_type": "code",
   "execution_count": 14,
   "metadata": {},
   "outputs": [
    {
     "name": "stdout",
     "output_type": "stream",
     "text": [
      "a    1\n",
      "b    2\n",
      "c    3\n",
      "d    4\n",
      "Name: one, dtype: int64\n",
      "<class 'pandas.core.series.Series'>\n"
     ]
    }
   ],
   "source": [
    "s3 = df3['one']\n",
    "print(s3)\n",
    "print(type(s3))"
   ]
  },
  {
   "cell_type": "code",
   "execution_count": 15,
   "metadata": {},
   "outputs": [
    {
     "name": "stdout",
     "output_type": "stream",
     "text": [
      "0    1\n",
      "1    1\n",
      "2    2\n",
      "3    3\n",
      "4    5\n",
      "5    8\n",
      "dtype: int64\n"
     ]
    }
   ],
   "source": [
    "s4 = pd.Series(np.array([1,1,2,3,5,8]))\n",
    "print(s4)"
   ]
  },
  {
   "cell_type": "code",
   "execution_count": 16,
   "metadata": {},
   "outputs": [
    {
     "name": "stdout",
     "output_type": "stream",
     "text": [
      "RangeIndex(start=0, stop=6, step=1)\n"
     ]
    }
   ],
   "source": [
    "print(s4.index)"
   ]
  },
  {
   "cell_type": "code",
   "execution_count": 17,
   "metadata": {},
   "outputs": [
    {
     "name": "stdout",
     "output_type": "stream",
     "text": [
      "a    1\n",
      "b    1\n",
      "c    2\n",
      "d    3\n",
      "e    5\n",
      "f    8\n",
      "dtype: int64\n"
     ]
    }
   ],
   "source": [
    "s4.index = ['a','b','c','d','e','f']\n",
    "print(s4)"
   ]
  },
  {
   "cell_type": "code",
   "execution_count": 18,
   "metadata": {},
   "outputs": [
    {
     "name": "stdout",
     "output_type": "stream",
     "text": [
      "s4[3]:  3\n",
      "s4[e]:  5\n",
      "s4[1,3,5]:  b    1\n",
      "d    3\n",
      "f    8\n",
      "dtype: int64\n",
      "s4[['a','b','d','f']]:  a    1\n",
      "b    1\n",
      "d    3\n",
      "f    8\n",
      "dtype: int64\n",
      "s4[:4]:  a    1\n",
      "b    1\n",
      "c    2\n",
      "d    3\n",
      "dtype: int64\n",
      "s4['c':]:  c    2\n",
      "d    3\n",
      "e    5\n",
      "f    8\n",
      "dtype: int64\n",
      "s4['b':'e']:  b    1\n",
      "c    2\n",
      "d    3\n",
      "e    5\n",
      "dtype: int64\n"
     ]
    }
   ],
   "source": [
    "print('s4[3]: ',s4[3])\n",
    "print('s4[e]: ',s4['e'])\n",
    "print(\"s4[1,3,5]: \",s4[[1,3,5]])\n",
    "print(\"s4[['a','b','d','f']]: \",s4[['a','b','d','f']])\n",
    "print('s4[:4]: ',s4[:4])\n",
    "print(\"s4['c':]: \",s4['c':])\n",
    "print(\"s4['b':'e']: \",s4['b':'e'])"
   ]
  },
  {
   "cell_type": "code",
   "execution_count": 19,
   "metadata": {},
   "outputs": [
    {
     "name": "stdout",
     "output_type": "stream",
     "text": [
      "a    10\n",
      "b    15\n",
      "c    20\n",
      "d    30\n",
      "e    55\n",
      "f    80\n",
      "dtype: int64\n",
      "a    12\n",
      "c    11\n",
      "g    13\n",
      "b    15\n",
      "d    14\n",
      "f    16\n",
      "dtype: int64\n",
      "a    22.0\n",
      "b    30.0\n",
      "c    31.0\n",
      "d    44.0\n",
      "e     NaN\n",
      "f    96.0\n",
      "g     NaN\n",
      "dtype: float64\n",
      "a    0.833333\n",
      "b    1.000000\n",
      "c    1.818182\n",
      "d    2.142857\n",
      "e         NaN\n",
      "f    5.000000\n",
      "g         NaN\n",
      "dtype: float64\n"
     ]
    }
   ],
   "source": [
    "s5 = pd.Series(np.array([10,15,20,30,55,80]),index = ['a','b','c','d','e','f'])\n",
    "print(s5)\n",
    "\n",
    "s6 = pd.Series(np.array([12,11,13,15,14,16]),index = ['a','c','g','b','d','f'])\n",
    "print(s6)\n",
    "print(s5 + s6)\n",
    "print(s5/s6)"
   ]
  },
  {
   "cell_type": "code",
   "execution_count": 3,
   "metadata": {},
   "outputs": [],
   "source": [
    "import pandas as pd\n",
    "\n",
    "stu_dic = {'Age':[14,13,13,14,14,12,12,15,13,12,11,14,12,15,16,12,15,11,15],\n",
    "'Height':[69,56.5,65.3,62.8,63.5,57.3,59.8,62.5,62.5,59,51.3,64.3,56.3,66.5,72,64.8,67,57.5,66.5],\n",
    "'Name':['Alfred','Alice','Barbara','Carol','Henry','James','Jane','Janet','Jeffrey','John','Joyce','Judy','Louise','Marry','Philip','Robert','Ronald','Thomas','Willam'],\n",
    "'Sex':['M','F','F','F','M','M','F','F','M','M','F','F','F','F','M','M','M','M','M'],\n",
    "'Weight':[112.5,84,98,102.5,102.5,83,84.5,112.5,84,99.5,50.5,90,77,112,150,128,133,85,112]}\n",
    "student = pd.DataFrame(stu_dic)"
   ]
  },
  {
   "cell_type": "code",
   "execution_count": 21,
   "metadata": {},
   "outputs": [
    {
     "name": "stdout",
     "output_type": "stream",
     "text": [
      "   Age  Height     Name Sex  Weight\n",
      "0   14    69.0   Alfred   M   112.5\n",
      "1   13    56.5    Alice   F    84.0\n",
      "2   13    65.3  Barbara   F    98.0\n",
      "3   14    62.8    Carol   F   102.5\n",
      "4   14    63.5    Henry   M   102.5\n"
     ]
    }
   ],
   "source": [
    "print(student.head())\n"
   ]
  },
  {
   "cell_type": "code",
   "execution_count": 22,
   "metadata": {},
   "outputs": [
    {
     "name": "stdout",
     "output_type": "stream",
     "text": [
      "    Age  Height    Name Sex  Weight\n",
      "14   16    72.0  Philip   M   150.0\n",
      "15   12    64.8  Robert   M   128.0\n",
      "16   15    67.0  Ronald   M   133.0\n",
      "17   11    57.5  Thomas   M    85.0\n",
      "18   15    66.5  Willam   M   112.0\n"
     ]
    }
   ],
   "source": [
    "print(student.tail())\n"
   ]
  },
  {
   "cell_type": "code",
   "execution_count": 23,
   "metadata": {},
   "outputs": [
    {
     "name": "stdout",
     "output_type": "stream",
     "text": [
      "   Age  Height     Name Sex  Weight\n",
      "0   14    69.0   Alfred   M   112.5\n",
      "2   13    65.3  Barbara   F    98.0\n",
      "4   14    63.5    Henry   M   102.5\n",
      "5   12    57.3    James   M    83.0\n",
      "7   15    62.5    Janet   F   112.5\n"
     ]
    }
   ],
   "source": [
    "print(student.loc[[0,2,4,5,7]])"
   ]
  },
  {
   "cell_type": "code",
   "execution_count": 24,
   "metadata": {},
   "outputs": [
    {
     "name": "stdout",
     "output_type": "stream",
     "text": [
      "      Name  Height  Weight\n",
      "0   Alfred    69.0   112.5\n",
      "1    Alice    56.5    84.0\n",
      "2  Barbara    65.3    98.0\n",
      "3    Carol    62.8   102.5\n",
      "4    Henry    63.5   102.5\n"
     ]
    }
   ],
   "source": [
    "print(student[['Name','Height','Weight']].head())"
   ]
  },
  {
   "cell_type": "code",
   "execution_count": 25,
   "metadata": {},
   "outputs": [
    {
     "name": "stdout",
     "output_type": "stream",
     "text": [
      "      Name  Height  Weight\n",
      "0   Alfred    69.0   112.5\n",
      "1    Alice    56.5    84.0\n",
      "2  Barbara    65.3    98.0\n",
      "3    Carol    62.8   102.5\n",
      "4    Henry    63.5   102.5\n"
     ]
    }
   ],
   "source": [
    "print(student.loc[:,['Name','Height','Weight']].head())"
   ]
  },
  {
   "cell_type": "code",
   "execution_count": 26,
   "metadata": {},
   "outputs": [
    {
     "name": "stdout",
     "output_type": "stream",
     "text": [
      "    Age  Height     Name Sex  Weight\n",
      "1    13    56.5    Alice   F    84.0\n",
      "2    13    65.3  Barbara   F    98.0\n",
      "3    14    62.8    Carol   F   102.5\n",
      "7    15    62.5    Janet   F   112.5\n",
      "11   14    64.3     Judy   F    90.0\n",
      "13   15    66.5    Marry   F   112.0\n"
     ]
    }
   ],
   "source": [
    "print(student[(student['Sex']=='F') & (student['Age']>12)])"
   ]
  },
  {
   "cell_type": "code",
   "execution_count": 27,
   "metadata": {},
   "outputs": [
    {
     "name": "stdout",
     "output_type": "stream",
     "text": [
      "       Name  Height  Weight\n",
      "1     Alice    56.5    84.0\n",
      "2   Barbara    65.3    98.0\n",
      "3     Carol    62.8   102.5\n",
      "7     Janet    62.5   112.5\n",
      "11     Judy    64.3    90.0\n",
      "13    Marry    66.5   112.0\n"
     ]
    }
   ],
   "source": [
    "print(student[(student['Sex']=='F') & (student['Age']>12)][['Name','Height','Weight']])"
   ]
  },
  {
   "cell_type": "code",
   "execution_count": 29,
   "metadata": {},
   "outputs": [
    {
     "name": "stdout",
     "output_type": "stream",
     "text": [
      "非空元素计算:  100\n",
      "最小值:  -4.1270333212494705\n",
      "最大值:  7.781921030926066\n",
      "最小值的位置:  81\n",
      "最大值的位置:  39\n",
      "10%分位数:  0.6870184644069928\n",
      "求和:  307.0224566250873\n",
      "均值:  3.070224566250874\n",
      "中位数:  3.204555266776845\n",
      "众数:  0    -4.127033\n",
      "1    -1.800907\n",
      "2    -1.485370\n",
      "3    -1.149955\n",
      "4    -1.042510\n",
      "        ...   \n",
      "95    5.865414\n",
      "96    6.091318\n",
      "97    7.015686\n",
      "98    7.061207\n",
      "99    7.781921\n",
      "Length: 100, dtype: float64\n",
      "方差:  4.005609378535085\n",
      "标准差:  2.0014018533355777\n",
      "平均绝对偏差:  1.5112880411556109\n",
      "偏度:  -0.6494780760484293\n",
      "峰度:  1.2201094052398012\n",
      "描述性统计指标:  count    100.000000\n",
      "mean       3.070225\n",
      "std        2.001402\n",
      "min       -4.127033\n",
      "25%        2.040101\n",
      "50%        3.204555\n",
      "75%        4.434788\n",
      "max        7.781921\n",
      "dtype: float64\n"
     ]
    }
   ],
   "source": [
    "np.random.seed(1234)\n",
    "d1 = pd.Series(2*np.random.normal(size = 100)+3)\n",
    "d2 = np.random.f(2,4,size = 100)\n",
    "d3 = np.random.randint(1,100,size = 100)\n",
    "\n",
    "print('非空元素计算: ', d1.count()) #非空元素计算\n",
    "print('最小值: ', d1.min()) #最小值\n",
    "print('最大值: ', d1.max()) #最大值\n",
    "print('最小值的位置: ', d1.idxmin()) #最小值的位置，类似于R中的which.min函数\n",
    "print('最大值的位置: ', d1.idxmax()) #最大值的位置，类似于R中的which.max函数\n",
    "print('10%分位数: ', d1.quantile(0.1)) #10%分位数\n",
    "print('求和: ', d1.sum()) #求和\n",
    "print('均值: ', d1.mean()) #均值\n",
    "print('中位数: ', d1.median()) #中位数\n",
    "print('众数: ', d1.mode()) #众数\n",
    "print('方差: ', d1.var()) #方差\n",
    "print('标准差: ', d1.std()) #标准差\n",
    "print('平均绝对偏差: ', d1.mad()) #平均绝对偏差\n",
    "print('偏度: ', d1.skew()) #偏度\n",
    "print('峰度: ', d1.kurt()) #峰度\n",
    "print('描述性统计指标: ', d1.describe()) #一次性输出多个描述性统计指标"
   ]
  },
  {
   "cell_type": "code",
   "execution_count": 30,
   "metadata": {},
   "outputs": [
    {
     "name": "stdout",
     "output_type": "stream",
     "text": [
      "Count        100.000000\n",
      "Min           -4.127033\n",
      "Whicn_Min     81.000000\n",
      "Q1             2.040101\n",
      "Median         3.204555\n",
      "Q3             4.434788\n",
      "Mean           3.070225\n",
      "Max            7.781921\n",
      "Which_Max     39.000000\n",
      "Mad            1.511288\n",
      "Var            4.005609\n",
      "Std            2.001402\n",
      "Skew          -0.649478\n",
      "Kurt           1.220109\n",
      "dtype: float64\n"
     ]
    }
   ],
   "source": [
    "def stats(x):\n",
    "    return pd.Series([x.count(),x.min(),x.idxmin(),x.quantile(.25),x.median(),x.quantile(.75),\n",
    "                      x.mean(),x.max(),x.idxmax(),x.mad(),x.var(),x.std(),x.skew(),x.kurt()],\n",
    "                     index = ['Count','Min','Whicn_Min','Q1','Median','Q3','Mean','Max',\n",
    "                              'Which_Max','Mad','Var','Std','Skew','Kurt'])\n",
    "print(stats(d1))"
   ]
  },
  {
   "cell_type": "code",
   "execution_count": 31,
   "metadata": {},
   "outputs": [
    {
     "name": "stdout",
     "output_type": "stream",
     "text": [
      "         x1        x2    x3\n",
      "0  3.942870  1.369531  55.0\n",
      "1  0.618049  0.943264  68.0\n",
      "2  5.865414  0.590663  73.0\n",
      "3  2.374696  0.206548  59.0\n",
      "4  1.558823  0.223204  60.0\n"
     ]
    }
   ],
   "source": [
    "df = pd.DataFrame(np.array([d1,d2,d3]).T,columns=['x1','x2','x3'])\n",
    "print(df.head())"
   ]
  },
  {
   "cell_type": "code",
   "execution_count": 32,
   "metadata": {},
   "outputs": [
    {
     "name": "stdout",
     "output_type": "stream",
     "text": [
      "                   x1          x2          x3\n",
      "Count      100.000000  100.000000  100.000000\n",
      "Min         -4.127033    0.014330    3.000000\n",
      "Whicn_Min   81.000000   72.000000   76.000000\n",
      "Q1           2.040101    0.249580   25.000000\n",
      "Median       3.204555    1.000613   54.500000\n",
      "Q3           4.434788    2.101581   73.000000\n",
      "Mean         3.070225    2.028608   51.490000\n",
      "Max          7.781921   18.791565   98.000000\n",
      "Which_Max   39.000000   53.000000   96.000000\n",
      "Mad          1.511288    1.922669   24.010800\n",
      "Var          4.005609   10.206447  780.090808\n",
      "Std          2.001402    3.194753   27.930106\n",
      "Skew        -0.649478    3.326246   -0.118917\n",
      "Kurt         1.220109   12.636286   -1.211579\n"
     ]
    }
   ],
   "source": [
    "print(df.apply(stats))"
   ]
  },
  {
   "cell_type": "code",
   "execution_count": 33,
   "metadata": {},
   "outputs": [
    {
     "name": "stdout",
     "output_type": "stream",
     "text": [
      "count     19\n",
      "unique     2\n",
      "top        M\n",
      "freq      10\n",
      "Name: Sex, dtype: object\n"
     ]
    }
   ],
   "source": [
    "print(student['Sex'].describe())"
   ]
  },
  {
   "cell_type": "code",
   "execution_count": 34,
   "metadata": {},
   "outputs": [
    {
     "name": "stdout",
     "output_type": "stream",
     "text": [
      "          x1        x2        x3\n",
      "x1  1.000000  0.136085  0.037185\n",
      "x2  0.136085  1.000000 -0.005688\n",
      "x3  0.037185 -0.005688  1.000000\n"
     ]
    }
   ],
   "source": [
    "print(df.corr())"
   ]
  },
  {
   "cell_type": "markdown",
   "metadata": {},
   "source": [
    "Correlation has three methods that are important\n",
    "**pearson**(default), **kendell** and **spearman**"
   ]
  },
  {
   "cell_type": "code",
   "execution_count": 36,
   "metadata": {},
   "outputs": [
    {
     "name": "stdout",
     "output_type": "stream",
     "text": [
      "         x1        x2        x3\n",
      "x1  1.00000  0.178950  0.006590\n",
      "x2  0.17895  1.000000 -0.033874\n",
      "x3  0.00659 -0.033874  1.000000\n"
     ]
    }
   ],
   "source": [
    "print(df.corr('spearman'))"
   ]
  },
  {
   "cell_type": "code",
   "execution_count": 37,
   "metadata": {},
   "outputs": [
    {
     "name": "stdout",
     "output_type": "stream",
     "text": [
      "x1    1.000000\n",
      "x2    0.136085\n",
      "x3    0.037185\n",
      "dtype: float64\n"
     ]
    }
   ],
   "source": [
    "print(df.corrwith(df['x1']))"
   ]
  },
  {
   "cell_type": "code",
   "execution_count": 38,
   "metadata": {},
   "outputs": [
    {
     "name": "stdout",
     "output_type": "stream",
     "text": [
      "          x1         x2          x3\n",
      "x1  4.005609   0.870124    2.078596\n",
      "x2  0.870124  10.206447   -0.507512\n",
      "x3  2.078596  -0.507512  780.090808\n"
     ]
    }
   ],
   "source": [
    "print(df.cov())"
   ]
  },
  {
   "cell_type": "markdown",
   "metadata": {},
   "source": [
    "# Use Pandas to do SQL"
   ]
  },
  {
   "cell_type": "code",
   "execution_count": 39,
   "metadata": {},
   "outputs": [
    {
     "name": "stdout",
     "output_type": "stream",
     "text": [
      "           Name Sex  Age  Height  Weight\n",
      "0  LiuShunxiang   M   27   165.7      61\n",
      "1     Zhangshan   F   23   167.2      63\n"
     ]
    }
   ],
   "source": [
    "dic = {'Name':['LiuShunxiang','Zhangshan'],'Sex':['M','F'],'Age':[27,23],'Height':[165.7,167.2],'Weight':[61,63]}\n",
    "student2 = pd.DataFrame(dic)\n",
    "print(student2)"
   ]
  },
  {
   "cell_type": "code",
   "execution_count": 41,
   "metadata": {},
   "outputs": [
    {
     "name": "stdout",
     "output_type": "stream",
     "text": [
      "    Age  Height          Name Sex  Weight\n",
      "0    14    69.0        Alfred   M   112.5\n",
      "1    13    56.5         Alice   F    84.0\n",
      "2    13    65.3       Barbara   F    98.0\n",
      "3    14    62.8         Carol   F   102.5\n",
      "4    14    63.5         Henry   M   102.5\n",
      "5    12    57.3         James   M    83.0\n",
      "6    12    59.8          Jane   F    84.5\n",
      "7    15    62.5         Janet   F   112.5\n",
      "8    13    62.5       Jeffrey   M    84.0\n",
      "9    12    59.0          John   M    99.5\n",
      "10   11    51.3         Joyce   F    50.5\n",
      "11   14    64.3          Judy   F    90.0\n",
      "12   12    56.3        Louise   F    77.0\n",
      "13   15    66.5         Marry   F   112.0\n",
      "14   16    72.0        Philip   M   150.0\n",
      "15   12    64.8        Robert   M   128.0\n",
      "16   15    67.0        Ronald   M   133.0\n",
      "17   11    57.5        Thomas   M    85.0\n",
      "18   15    66.5        Willam   M   112.0\n",
      "0    27   165.7  LiuShunxiang   M    61.0\n",
      "1    23   167.2     Zhangshan   F    63.0\n"
     ]
    }
   ],
   "source": [
    "student3 = pd.concat([student,student2], sort=False)\n",
    "print(student3)"
   ]
  },
  {
   "cell_type": "code",
   "execution_count": 42,
   "metadata": {},
   "outputs": [
    {
     "name": "stdout",
     "output_type": "stream",
     "text": [
      "   Age  Height          Name Sex  Weight  Score\n",
      "0   27   165.7  LiuShunxiang   M      61    NaN\n",
      "1   23   167.2     Zhangshan   F      63    NaN\n"
     ]
    }
   ],
   "source": [
    "print(pd.DataFrame(student2, columns=['Age','Height','Name','Sex','Weight','Score']))"
   ]
  },
  {
   "cell_type": "code",
   "execution_count": 43,
   "metadata": {},
   "outputs": [
    {
     "ename": "NameError",
     "evalue": "name 'student2' is not defined",
     "output_type": "error",
     "traceback": [
      "\u001b[0;31m---------------------------------------------------------------------------\u001b[0m",
      "\u001b[0;31mNameError\u001b[0m                                 Traceback (most recent call last)",
      "\u001b[0;32m<ipython-input-43-3453d237c14b>\u001b[0m in \u001b[0;36m<module>\u001b[0;34m\u001b[0m\n\u001b[1;32m      1\u001b[0m \u001b[0;32mdel\u001b[0m \u001b[0mstudent2\u001b[0m \u001b[0;31m#删除数据框student2, 通过del命令可以删除python的所有对象\u001b[0m\u001b[0;34m\u001b[0m\u001b[0;34m\u001b[0m\u001b[0m\n\u001b[0;32m----> 2\u001b[0;31m \u001b[0mprint\u001b[0m\u001b[0;34m(\u001b[0m\u001b[0mstudent2\u001b[0m\u001b[0;34m)\u001b[0m\u001b[0;34m\u001b[0m\u001b[0;34m\u001b[0m\u001b[0m\n\u001b[0m",
      "\u001b[0;31mNameError\u001b[0m: name 'student2' is not defined"
     ]
    }
   ],
   "source": [
    "del student2 #删除数据框student2, 通过del命令可以删除python的所有对象\n",
    "print(student2)"
   ]
  },
  {
   "cell_type": "code",
   "execution_count": 44,
   "metadata": {},
   "outputs": [
    {
     "name": "stdout",
     "output_type": "stream",
     "text": [
      "    Age  Height     Name Sex  Weight\n",
      "2    13    65.3  Barbara   F    98.0\n",
      "4    14    63.5    Henry   M   102.5\n",
      "5    12    57.3    James   M    83.0\n",
      "7    15    62.5    Janet   F   112.5\n",
      "8    13    62.5  Jeffrey   M    84.0\n",
      "9    12    59.0     John   M    99.5\n",
      "10   11    51.3    Joyce   F    50.5\n",
      "11   14    64.3     Judy   F    90.0\n",
      "12   12    56.3   Louise   F    77.0\n",
      "13   15    66.5    Marry   F   112.0\n",
      "14   16    72.0   Philip   M   150.0\n",
      "15   12    64.8   Robert   M   128.0\n",
      "16   15    67.0   Ronald   M   133.0\n",
      "17   11    57.5   Thomas   M    85.0\n",
      "18   15    66.5   Willam   M   112.0\n"
     ]
    }
   ],
   "source": [
    "print(student.drop([0,1,3,6]))"
   ]
  },
  {
   "cell_type": "code",
   "execution_count": 45,
   "metadata": {},
   "outputs": [
    {
     "name": "stdout",
     "output_type": "stream",
     "text": [
      "    Age  Height    Name Sex  Weight\n",
      "7    15    62.5   Janet   F   112.5\n",
      "13   15    66.5   Marry   F   112.0\n",
      "14   16    72.0  Philip   M   150.0\n",
      "16   15    67.0  Ronald   M   133.0\n",
      "18   15    66.5  Willam   M   112.0\n"
     ]
    }
   ],
   "source": [
    "print(student[student['Age']>14])"
   ]
  },
  {
   "cell_type": "code",
   "execution_count": 48,
   "metadata": {},
   "outputs": [
    {
     "name": "stdout",
     "output_type": "stream",
     "text": [
      "   Age     Name Sex\n",
      "0   14   Alfred   M\n",
      "1   13    Alice   F\n",
      "2   13  Barbara   F\n",
      "3   14    Carol   F\n",
      "4   14    Henry   M\n"
     ]
    }
   ],
   "source": [
    "print(student.drop(['Height','Weight'],axis=1).head())"
   ]
  },
  {
   "cell_type": "code",
   "execution_count": 49,
   "metadata": {},
   "outputs": [
    {
     "name": "stdout",
     "output_type": "stream",
     "text": [
      "           Name  Height\n",
      "0  LiuShunxiang   173.0\n"
     ]
    }
   ],
   "source": [
    "student3.loc[student3['Name'] == 'LiuShunxiang','Height']=173\n",
    "print(student3[student3['Name'] == 'LiuShunxiang'][['Name','Height']])"
   ]
  },
  {
   "cell_type": "code",
   "execution_count": 50,
   "metadata": {},
   "outputs": [
    {
     "name": "stdout",
     "output_type": "stream",
     "text": [
      "           Age     Height      Weight\n",
      "Sex                                  \n",
      "F    13.222222  60.588889   90.111111\n",
      "M    13.400000  63.910000  108.950000\n"
     ]
    }
   ],
   "source": [
    "print(student.groupby('Sex').mean())"
   ]
  },
  {
   "cell_type": "code",
   "execution_count": 51,
   "metadata": {},
   "outputs": [
    {
     "name": "stdout",
     "output_type": "stream",
     "text": [
      "        Height      Weight\n",
      "Sex                       \n",
      "F    60.588889   90.111111\n",
      "M    63.910000  108.950000\n"
     ]
    }
   ],
   "source": [
    "print(student.drop('Age',axis=1).groupby('Sex').mean())"
   ]
  },
  {
   "cell_type": "code",
   "execution_count": 52,
   "metadata": {},
   "outputs": [
    {
     "name": "stdout",
     "output_type": "stream",
     "text": [
      "            Height  Weight\n",
      "Sex Age                   \n",
      "F   11   51.300000   50.50\n",
      "    12   58.050000   80.75\n",
      "    13   60.900000   91.00\n",
      "    14   63.550000   96.25\n",
      "    15   64.500000  112.25\n",
      "M   11   57.500000   85.00\n",
      "    12   60.366667  103.50\n",
      "    13   62.500000   84.00\n",
      "    14   66.250000  107.50\n",
      "    15   66.750000  122.50\n",
      "    16   72.000000  150.00\n"
     ]
    }
   ],
   "source": [
    "print(student.groupby(['Sex','Age']).mean())"
   ]
  },
  {
   "cell_type": "code",
   "execution_count": 53,
   "metadata": {},
   "outputs": [
    {
     "name": "stdout",
     "output_type": "stream",
     "text": [
      "        Height             Weight        \n",
      "          mean median        mean  median\n",
      "Sex                                      \n",
      "F    60.588889  62.50   90.111111   90.00\n",
      "M    63.910000  64.15  108.950000  107.25\n"
     ]
    }
   ],
   "source": [
    "print(student.drop('Age',axis=1).groupby('Sex').agg([np.mean,np.median]))"
   ]
  },
  {
   "cell_type": "code",
   "execution_count": 54,
   "metadata": {},
   "outputs": [
    {
     "name": "stdout",
     "output_type": "stream",
     "text": [
      "0    18\n",
      "1    15\n",
      "2    16\n",
      "3    18\n",
      "4    16\n",
      "5     8\n",
      "6    17\n",
      "7    10\n",
      "8    16\n",
      "9     6\n",
      "dtype: int64\n",
      "0    18\n",
      "1    15\n",
      "2    16\n",
      "3    18\n",
      "4    16\n",
      "5     8\n",
      "6    17\n",
      "7    10\n",
      "8    16\n",
      "9     6\n",
      "dtype: int64\n",
      "3    18\n",
      "0    18\n",
      "6    17\n",
      "8    16\n",
      "4    16\n",
      "2    16\n",
      "1    15\n",
      "7    10\n",
      "5     8\n",
      "9     6\n",
      "dtype: int64\n"
     ]
    }
   ],
   "source": [
    "Data = pd.Series(np.array(np.random.randint(1,20,10)))\n",
    "print(Data)\n",
    "print(Data.sort_index())\n",
    "print(Data.sort_values(ascending=False))\n"
   ]
  },
  {
   "cell_type": "code",
   "execution_count": 55,
   "metadata": {},
   "outputs": [
    {
     "name": "stdout",
     "output_type": "stream",
     "text": [
      "    Age  Height     Name Sex  Weight\n",
      "10   11    51.3    Joyce   F    50.5\n",
      "17   11    57.5   Thomas   M    85.0\n",
      "12   12    56.3   Louise   F    77.0\n",
      "5    12    57.3    James   M    83.0\n",
      "9    12    59.0     John   M    99.5\n",
      "6    12    59.8     Jane   F    84.5\n",
      "15   12    64.8   Robert   M   128.0\n",
      "1    13    56.5    Alice   F    84.0\n",
      "8    13    62.5  Jeffrey   M    84.0\n",
      "2    13    65.3  Barbara   F    98.0\n",
      "3    14    62.8    Carol   F   102.5\n",
      "4    14    63.5    Henry   M   102.5\n",
      "11   14    64.3     Judy   F    90.0\n",
      "0    14    69.0   Alfred   M   112.5\n",
      "7    15    62.5    Janet   F   112.5\n",
      "13   15    66.5    Marry   F   112.0\n",
      "18   15    66.5   Willam   M   112.0\n",
      "16   15    67.0   Ronald   M   133.0\n",
      "14   16    72.0   Philip   M   150.0\n"
     ]
    }
   ],
   "source": [
    "print(student.sort_values(by = ['Age','Height']))"
   ]
  },
  {
   "cell_type": "code",
   "execution_count": 2,
   "metadata": {},
   "outputs": [
    {
     "name": "stdout",
     "output_type": "stream",
     "text": [
      "      Name  Score\n",
      "0   Alfred     88\n",
      "1    Alice     76\n",
      "2  Barbara     89\n",
      "3    Carol     67\n",
      "4    Henry     79\n",
      "5  Jeffrey     90\n",
      "6     Judy     92\n",
      "7   Philip     86\n",
      "8   Robert     73\n",
      "9   Willam     77\n"
     ]
    }
   ],
   "source": [
    "dic2 = {'Name':['Alfred','Alice','Barbara','Carol','Henry','Jeffrey','Judy','Philip','Robert','Willam'],\n",
    "        'Score':[88,76,89,67,79,90,92,86,73,77]}\n",
    "score = pd.DataFrame(dic2)\n",
    "\n",
    "print(score)"
   ]
  },
  {
   "cell_type": "code",
   "execution_count": 4,
   "metadata": {},
   "outputs": [
    {
     "name": "stdout",
     "output_type": "stream",
     "text": [
      "   Age  Height     Name Sex  Weight  Score\n",
      "0   14    69.0   Alfred   M   112.5     88\n",
      "1   13    56.5    Alice   F    84.0     76\n",
      "2   13    65.3  Barbara   F    98.0     89\n",
      "3   14    62.8    Carol   F   102.5     67\n",
      "4   14    63.5    Henry   M   102.5     79\n",
      "5   13    62.5  Jeffrey   M    84.0     90\n",
      "6   14    64.3     Judy   F    90.0     92\n",
      "7   16    72.0   Philip   M   150.0     86\n",
      "8   12    64.8   Robert   M   128.0     73\n",
      "9   15    66.5   Willam   M   112.0     77\n"
     ]
    }
   ],
   "source": [
    "stu_score1 = pd.merge(student, score, on='Name')\n",
    "print(stu_score1)"
   ]
  },
  {
   "cell_type": "code",
   "execution_count": 10,
   "metadata": {},
   "outputs": [
    {
     "name": "stdout",
     "output_type": "stream",
     "text": [
      "    Age  Height     Name Sex  Weight  Score\n",
      "0    14    69.0   Alfred   M   112.5   88.0\n",
      "1    13    56.5    Alice   F    84.0   76.0\n",
      "2    13    65.3  Barbara   F    98.0   89.0\n",
      "3    14    62.8    Carol   F   102.5   67.0\n",
      "4    14    63.5    Henry   M   102.5   79.0\n",
      "5    12    57.3    James   M    83.0    NaN\n",
      "6    12    59.8     Jane   F    84.5    NaN\n",
      "7    15    62.5    Janet   F   112.5    NaN\n",
      "8    13    62.5  Jeffrey   M    84.0   90.0\n",
      "9    12    59.0     John   M    99.5    NaN\n",
      "10   11    51.3    Joyce   F    50.5    NaN\n",
      "11   14    64.3     Judy   F    90.0   92.0\n",
      "12   12    56.3   Louise   F    77.0    NaN\n",
      "13   15    66.5    Marry   F   112.0    NaN\n",
      "14   16    72.0   Philip   M   150.0   86.0\n",
      "15   12    64.8   Robert   M   128.0   73.0\n",
      "16   15    67.0   Ronald   M   133.0    NaN\n",
      "17   11    57.5   Thomas   M    85.0    NaN\n",
      "18   15    66.5   Willam   M   112.0   77.0\n"
     ]
    }
   ],
   "source": [
    "stu_score2 = pd.merge(student, score, on='Name', how='left')\n",
    "print(stu_score2)"
   ]
  },
  {
   "cell_type": "code",
   "execution_count": 11,
   "metadata": {},
   "outputs": [
    {
     "name": "stdout",
     "output_type": "stream",
     "text": [
      "0     88.0\n",
      "1     76.0\n",
      "2     89.0\n",
      "3     67.0\n",
      "4     79.0\n",
      "5      NaN\n",
      "6      NaN\n",
      "7      NaN\n",
      "8     90.0\n",
      "9      NaN\n",
      "10     NaN\n",
      "11    92.0\n",
      "12     NaN\n",
      "13     NaN\n",
      "14    86.0\n",
      "15    73.0\n",
      "16     NaN\n",
      "17     NaN\n",
      "18    77.0\n",
      "Name: Score, dtype: float64\n"
     ]
    }
   ],
   "source": [
    "s = stu_score2['Score']\n",
    "print(s)"
   ]
  },
  {
   "cell_type": "code",
   "execution_count": 12,
   "metadata": {},
   "outputs": [
    {
     "name": "stdout",
     "output_type": "stream",
     "text": [
      "9\n"
     ]
    }
   ],
   "source": [
    "print(sum(pd.isnull(s)))"
   ]
  },
  {
   "cell_type": "code",
   "execution_count": 13,
   "metadata": {},
   "outputs": [
    {
     "name": "stdout",
     "output_type": "stream",
     "text": [
      "0     88.0\n",
      "1     76.0\n",
      "2     89.0\n",
      "3     67.0\n",
      "4     79.0\n",
      "8     90.0\n",
      "11    92.0\n",
      "14    86.0\n",
      "15    73.0\n",
      "18    77.0\n",
      "Name: Score, dtype: float64\n"
     ]
    }
   ],
   "source": [
    "print(s.dropna())"
   ]
  },
  {
   "cell_type": "code",
   "execution_count": 14,
   "metadata": {},
   "outputs": [
    {
     "name": "stdout",
     "output_type": "stream",
     "text": [
      "     x1    x2    x3\n",
      "0   1.0   1.0   2.0\n",
      "1   3.0   5.0   NaN\n",
      "2  13.0  21.0  34.0\n",
      "3  55.0   NaN  10.0\n",
      "4   NaN   NaN   NaN\n",
      "5   NaN   1.0   2.0\n",
      "     x1    x2    x3\n",
      "0   1.0   1.0   2.0\n",
      "2  13.0  21.0  34.0\n"
     ]
    }
   ],
   "source": [
    "df = pd.DataFrame([[1,1,2],[3,5,np.nan],[13,21,34],[55,np.nan,10],[np.nan,np.nan,np.nan],[np.nan,1,2]],columns=('x1','x2','x3'))\n",
    "print(df)\n",
    "print(df.dropna())"
   ]
  },
  {
   "cell_type": "code",
   "execution_count": 15,
   "metadata": {},
   "outputs": [
    {
     "name": "stdout",
     "output_type": "stream",
     "text": [
      "     x1    x2    x3\n",
      "0   1.0   1.0   2.0\n",
      "1   3.0   5.0   0.0\n",
      "2  13.0  21.0  34.0\n",
      "3  55.0   0.0  10.0\n",
      "4   0.0   0.0   0.0\n",
      "5   0.0   1.0   2.0\n"
     ]
    }
   ],
   "source": [
    "print(df.fillna(0))"
   ]
  },
  {
   "cell_type": "code",
   "execution_count": 17,
   "metadata": {},
   "outputs": [
    {
     "name": "stdout",
     "output_type": "stream",
     "text": [
      "     x1    x2    x3\n",
      "0   1.0   1.0   2.0\n",
      "1   3.0   5.0   NaN\n",
      "2  13.0  21.0  34.0\n",
      "3  55.0   NaN  10.0\n",
      "4   NaN   NaN   NaN\n",
      "5   NaN   1.0   2.0\n",
      "     x1    x2    x3\n",
      "0   1.0   1.0   2.0\n",
      "1   3.0   5.0   2.0\n",
      "2  13.0  21.0  34.0\n",
      "3  55.0  21.0  10.0\n",
      "4  55.0  21.0  10.0\n",
      "5  55.0   1.0   2.0\n",
      "     x1    x2    x3\n",
      "0   1.0   1.0   2.0\n",
      "1   3.0   5.0  34.0\n",
      "2  13.0  21.0  34.0\n",
      "3  55.0   1.0  10.0\n",
      "4   NaN   1.0   2.0\n",
      "5   NaN   1.0   2.0\n"
     ]
    }
   ],
   "source": [
    "print(df)\n",
    "print(df.fillna(method='ffill'))\n",
    "print(df.fillna(method='bfill'))"
   ]
  },
  {
   "cell_type": "code",
   "execution_count": 18,
   "metadata": {},
   "outputs": [
    {
     "name": "stdout",
     "output_type": "stream",
     "text": [
      "     x1    x2    x3\n",
      "0   1.0   1.0   2.0\n",
      "1   3.0   5.0   3.0\n",
      "2  13.0  21.0  34.0\n",
      "3  55.0   2.0  10.0\n",
      "4   1.0   2.0   3.0\n",
      "5   1.0   1.0   2.0\n"
     ]
    }
   ],
   "source": [
    "print(df.fillna({'x1':1,'x2':2,'x3':3}))"
   ]
  },
  {
   "cell_type": "code",
   "execution_count": 19,
   "metadata": {},
   "outputs": [
    {
     "name": "stdout",
     "output_type": "stream",
     "text": [
      "8.0\n",
      "7.0\n",
      "12.0\n",
      "     x1    x2    x3\n",
      "0   1.0   1.0   2.0\n",
      "1   3.0   5.0  12.0\n",
      "2  13.0  21.0  34.0\n",
      "3  55.0   7.0  10.0\n",
      "4   8.0   7.0  12.0\n",
      "5   8.0   1.0   2.0\n"
     ]
    }
   ],
   "source": [
    "x1_median=df['x1'].median()\n",
    "x2_mean=df['x2'].mean()\n",
    "x3_mean=df['x3'].mean()\n",
    "\n",
    "print(x1_median)\n",
    "print(x2_mean)\n",
    "print(x3_mean)\n",
    "print(df.fillna({'x1':x1_median,'x2':x2_mean,'x3':x3_mean}))"
   ]
  },
  {
   "cell_type": "code",
   "execution_count": 20,
   "metadata": {},
   "outputs": [
    {
     "name": "stdout",
     "output_type": "stream",
     "text": [
      "Sex             F      M\n",
      "Height  60.588889  63.91\n"
     ]
    }
   ],
   "source": [
    "Table1 = pd.pivot_table(student, values=['Height'], columns=['Sex'])\n",
    "print(Table1)"
   ]
  },
  {
   "cell_type": "code",
   "execution_count": 21,
   "metadata": {},
   "outputs": [
    {
     "name": "stdout",
     "output_type": "stream",
     "text": [
      "Sex             F       M\n",
      "Height  60.588889   63.91\n",
      "Weight  90.111111  108.95\n"
     ]
    }
   ],
   "source": [
    "Table2 = pd.pivot_table(student, values=['Height','Weight'], columns=['Sex'])\n",
    "print(Table2)"
   ]
  },
  {
   "cell_type": "code",
   "execution_count": 22,
   "metadata": {},
   "outputs": [
    {
     "name": "stdout",
     "output_type": "stream",
     "text": [
      "        Sex  Age\n",
      "Height  F    11      51.300000\n",
      "             12      58.050000\n",
      "             13      60.900000\n",
      "             14      63.550000\n",
      "             15      64.500000\n",
      "        M    11      57.500000\n",
      "             12      60.366667\n",
      "             13      62.500000\n",
      "             14      66.250000\n",
      "             15      66.750000\n",
      "             16      72.000000\n",
      "Weight  F    11      50.500000\n",
      "             12      80.750000\n",
      "             13      91.000000\n",
      "             14      96.250000\n",
      "             15     112.250000\n",
      "        M    11      85.000000\n",
      "             12     103.500000\n",
      "             13      84.000000\n",
      "             14     107.500000\n",
      "             15     122.500000\n",
      "             16     150.000000\n",
      "dtype: float64\n"
     ]
    }
   ],
   "source": [
    "Table3 = pd.pivot_table(student, values=['Height','Weight'], columns=['Sex','Age'])\n",
    "print(Table3)"
   ]
  },
  {
   "cell_type": "code",
   "execution_count": 23,
   "metadata": {},
   "outputs": [
    {
     "name": "stdout",
     "output_type": "stream",
     "text": [
      "Age           11          12    13      14      15     16\n",
      "       Sex                                               \n",
      "Height F    51.3   58.050000  60.9   63.55   64.50    NaN\n",
      "       M    57.5   60.366667  62.5   66.25   66.75   72.0\n",
      "Weight F    50.5   80.750000  91.0   96.25  112.25    NaN\n",
      "       M    85.0  103.500000  84.0  107.50  122.50  150.0\n"
     ]
    }
   ],
   "source": [
    "Table4 = pd.pivot_table(student, values=['Height','Weight'], columns=['Sex','Age']).unstack()\n",
    "print(Table4)"
   ]
  },
  {
   "cell_type": "code",
   "execution_count": 24,
   "metadata": {},
   "outputs": [
    {
     "name": "stdout",
     "output_type": "stream",
     "text": [
      "             mean         median                std           \n",
      "Sex             F       M      F       M          F          M\n",
      "Height  60.588889   63.91   62.5   64.15   5.018328   4.937937\n",
      "Weight  90.111111  108.95   90.0  107.25  19.383914  22.727186\n"
     ]
    }
   ],
   "source": [
    "Table5 = pd.pivot_table(student, values=['Height','Weight'], columns=['Sex'],aggfunc=[np.mean,np.median,np.std])\n",
    "print(Table5)"
   ]
  },
  {
   "cell_type": "code",
   "execution_count": 25,
   "metadata": {},
   "outputs": [
    {
     "name": "stdout",
     "output_type": "stream",
     "text": [
      "a  1    1\n",
      "   2    2\n",
      "   3    3\n",
      "b  1    4\n",
      "   2    5\n",
      "c  3    6\n",
      "   1    7\n",
      "d  2    8\n",
      "   3    9\n",
      "dtype: int64\n"
     ]
    }
   ],
   "source": [
    "# Series的层次化索引，索引是一个二维数组，相当于两个索引决定一个值\n",
    "# 有点类似于DataFrame的行索引和列索引\n",
    "s = pd.Series(np.arange(1,10),index=[[\"a\",\"a\",\"a\",\"b\",\"b\",\"c\",\"c\",\"d\",\"d\"],[1,2,3,1,2,3,1,2,3]])\n",
    "print(s)"
   ]
  },
  {
   "cell_type": "code",
   "execution_count": 29,
   "metadata": {},
   "outputs": [
    {
     "name": "stdout",
     "output_type": "stream",
     "text": [
      "MultiIndex([('a', 1),\n",
      "            ('a', 2),\n",
      "            ('a', 3),\n",
      "            ('b', 1),\n",
      "            ('b', 2),\n",
      "            ('c', 3),\n",
      "            ('c', 1),\n",
      "            ('d', 2),\n",
      "            ('d', 3)],\n",
      "           )\n"
     ]
    }
   ],
   "source": [
    "print(s.index)"
   ]
  },
  {
   "cell_type": "code",
   "execution_count": 30,
   "metadata": {},
   "outputs": [
    {
     "name": "stdout",
     "output_type": "stream",
     "text": [
      "1    1\n",
      "2    2\n",
      "3    3\n",
      "dtype: int64\n",
      "1\n",
      "1    1\n",
      "3    3\n",
      "dtype: int64\n",
      "a  1    1\n",
      "   2    2\n",
      "   3    3\n",
      "c  3    6\n",
      "   1    7\n",
      "dtype: int64\n",
      "b  1    4\n",
      "   2    5\n",
      "c  3    6\n",
      "   1    7\n",
      "d  2    8\n",
      "   3    9\n",
      "dtype: int64\n",
      "     1    2    3\n",
      "a  1.0  2.0  3.0\n",
      "b  4.0  5.0  NaN\n",
      "c  7.0  NaN  6.0\n",
      "d  NaN  8.0  9.0\n"
     ]
    }
   ],
   "source": [
    "#选取外层索引为a的数据\n",
    "print(s['a'])\n",
    "#选取外层索引为a和内层索引为1的数据\n",
    "print(s['a',1])\n",
    "#选取外层索引为a和内层索引为1,3的数据\n",
    "print(s['a'][[1,3]])\n",
    "#层次化索引的切片，包括右端的索引\n",
    "print(s[['a','c']])\n",
    "print(s['b':'d'])\n",
    "#通过unstack方法可以将Series变成一个DataFrame\n",
    "#数据的类型以及数据的输出结构都变成了DataFrame，对于不存在的位置使用NaN填充\n",
    "print(s.unstack())"
   ]
  },
  {
   "cell_type": "code",
   "execution_count": 31,
   "metadata": {},
   "outputs": [
    {
     "data": {
      "text/html": [
       "<div>\n",
       "<style scoped>\n",
       "    .dataframe tbody tr th:only-of-type {\n",
       "        vertical-align: middle;\n",
       "    }\n",
       "\n",
       "    .dataframe tbody tr th {\n",
       "        vertical-align: top;\n",
       "    }\n",
       "\n",
       "    .dataframe thead tr th {\n",
       "        text-align: left;\n",
       "    }\n",
       "</style>\n",
       "<table border=\"1\" class=\"dataframe\">\n",
       "  <thead>\n",
       "    <tr>\n",
       "      <th></th>\n",
       "      <th></th>\n",
       "      <th></th>\n",
       "      <th colspan=\"6\" halign=\"left\">模拟考</th>\n",
       "      <th colspan=\"6\" halign=\"left\">正式考</th>\n",
       "    </tr>\n",
       "    <tr>\n",
       "      <th></th>\n",
       "      <th></th>\n",
       "      <th></th>\n",
       "      <th>数学</th>\n",
       "      <th>语文</th>\n",
       "      <th>英语</th>\n",
       "      <th>物理</th>\n",
       "      <th>化学</th>\n",
       "      <th>生物</th>\n",
       "      <th>数学</th>\n",
       "      <th>语文</th>\n",
       "      <th>英语</th>\n",
       "      <th>物理</th>\n",
       "      <th>化学</th>\n",
       "      <th>生物</th>\n",
       "    </tr>\n",
       "  </thead>\n",
       "  <tbody>\n",
       "    <tr>\n",
       "      <td rowspan=\"4\" valign=\"top\">期中</td>\n",
       "      <td rowspan=\"2\" valign=\"top\">雷军</td>\n",
       "      <td>测试一</td>\n",
       "      <td>112</td>\n",
       "      <td>43</td>\n",
       "      <td>21</td>\n",
       "      <td>80</td>\n",
       "      <td>31</td>\n",
       "      <td>104</td>\n",
       "      <td>91</td>\n",
       "      <td>122</td>\n",
       "      <td>125</td>\n",
       "      <td>15</td>\n",
       "      <td>149</td>\n",
       "      <td>3</td>\n",
       "    </tr>\n",
       "    <tr>\n",
       "      <td>测试二</td>\n",
       "      <td>12</td>\n",
       "      <td>100</td>\n",
       "      <td>11</td>\n",
       "      <td>71</td>\n",
       "      <td>148</td>\n",
       "      <td>2</td>\n",
       "      <td>54</td>\n",
       "      <td>105</td>\n",
       "      <td>2</td>\n",
       "      <td>139</td>\n",
       "      <td>119</td>\n",
       "      <td>147</td>\n",
       "    </tr>\n",
       "    <tr>\n",
       "      <td rowspan=\"2\" valign=\"top\">李斌</td>\n",
       "      <td>测试一</td>\n",
       "      <td>5</td>\n",
       "      <td>58</td>\n",
       "      <td>111</td>\n",
       "      <td>148</td>\n",
       "      <td>119</td>\n",
       "      <td>133</td>\n",
       "      <td>84</td>\n",
       "      <td>128</td>\n",
       "      <td>51</td>\n",
       "      <td>47</td>\n",
       "      <td>47</td>\n",
       "      <td>87</td>\n",
       "    </tr>\n",
       "    <tr>\n",
       "      <td>测试二</td>\n",
       "      <td>47</td>\n",
       "      <td>99</td>\n",
       "      <td>128</td>\n",
       "      <td>71</td>\n",
       "      <td>51</td>\n",
       "      <td>15</td>\n",
       "      <td>82</td>\n",
       "      <td>67</td>\n",
       "      <td>71</td>\n",
       "      <td>69</td>\n",
       "      <td>37</td>\n",
       "      <td>58</td>\n",
       "    </tr>\n",
       "    <tr>\n",
       "      <td rowspan=\"4\" valign=\"top\">期末</td>\n",
       "      <td rowspan=\"2\" valign=\"top\">雷军</td>\n",
       "      <td>测试一</td>\n",
       "      <td>75</td>\n",
       "      <td>149</td>\n",
       "      <td>126</td>\n",
       "      <td>58</td>\n",
       "      <td>60</td>\n",
       "      <td>88</td>\n",
       "      <td>45</td>\n",
       "      <td>46</td>\n",
       "      <td>25</td>\n",
       "      <td>0</td>\n",
       "      <td>108</td>\n",
       "      <td>50</td>\n",
       "    </tr>\n",
       "    <tr>\n",
       "      <td>测试二</td>\n",
       "      <td>90</td>\n",
       "      <td>95</td>\n",
       "      <td>96</td>\n",
       "      <td>66</td>\n",
       "      <td>74</td>\n",
       "      <td>73</td>\n",
       "      <td>70</td>\n",
       "      <td>35</td>\n",
       "      <td>42</td>\n",
       "      <td>77</td>\n",
       "      <td>139</td>\n",
       "      <td>46</td>\n",
       "    </tr>\n",
       "    <tr>\n",
       "      <td rowspan=\"2\" valign=\"top\">李斌</td>\n",
       "      <td>测试一</td>\n",
       "      <td>147</td>\n",
       "      <td>138</td>\n",
       "      <td>30</td>\n",
       "      <td>65</td>\n",
       "      <td>55</td>\n",
       "      <td>46</td>\n",
       "      <td>127</td>\n",
       "      <td>56</td>\n",
       "      <td>121</td>\n",
       "      <td>145</td>\n",
       "      <td>73</td>\n",
       "      <td>30</td>\n",
       "    </tr>\n",
       "    <tr>\n",
       "      <td>测试二</td>\n",
       "      <td>0</td>\n",
       "      <td>110</td>\n",
       "      <td>92</td>\n",
       "      <td>50</td>\n",
       "      <td>60</td>\n",
       "      <td>97</td>\n",
       "      <td>134</td>\n",
       "      <td>128</td>\n",
       "      <td>40</td>\n",
       "      <td>119</td>\n",
       "      <td>115</td>\n",
       "      <td>123</td>\n",
       "    </tr>\n",
       "  </tbody>\n",
       "</table>\n",
       "</div>"
      ],
      "text/plain": [
       "           模拟考                           正式考                         \n",
       "            数学   语文   英语   物理   化学   生物   数学   语文   英语   物理   化学   生物\n",
       "期中 雷军 测试一  112   43   21   80   31  104   91  122  125   15  149    3\n",
       "      测试二   12  100   11   71  148    2   54  105    2  139  119  147\n",
       "   李斌 测试一    5   58  111  148  119  133   84  128   51   47   47   87\n",
       "      测试二   47   99  128   71   51   15   82   67   71   69   37   58\n",
       "期末 雷军 测试一   75  149  126   58   60   88   45   46   25    0  108   50\n",
       "      测试二   90   95   96   66   74   73   70   35   42   77  139   46\n",
       "   李斌 测试一  147  138   30   65   55   46  127   56  121  145   73   30\n",
       "      测试二    0  110   92   50   60   97  134  128   40  119  115  123"
      ]
     },
     "execution_count": 31,
     "metadata": {},
     "output_type": "execute_result"
    }
   ],
   "source": [
    "data = pd.DataFrame(np.random.randint(0,150,size=(8,12)),\n",
    "               columns = pd.MultiIndex.from_product([['模拟考','正式考'],\n",
    "                                                   ['数学','语文','英语','物理','化学','生物']]),\n",
    "               index = pd.MultiIndex.from_product([['期中','期末'],\n",
    "                                                   ['雷军','李斌'],\n",
    "                                                  ['测试一','测试二']]))\n",
    "data"
   ]
  },
  {
   "cell_type": "code",
   "execution_count": 32,
   "metadata": {},
   "outputs": [
    {
     "data": {
      "text/html": [
       "<div>\n",
       "<style scoped>\n",
       "    .dataframe tbody tr th:only-of-type {\n",
       "        vertical-align: middle;\n",
       "    }\n",
       "\n",
       "    .dataframe tbody tr th {\n",
       "        vertical-align: top;\n",
       "    }\n",
       "\n",
       "    .dataframe thead th {\n",
       "        text-align: right;\n",
       "    }\n",
       "</style>\n",
       "<table border=\"1\" class=\"dataframe\">\n",
       "  <thead>\n",
       "    <tr style=\"text-align: right;\">\n",
       "      <th></th>\n",
       "      <th></th>\n",
       "      <th></th>\n",
       "      <th>语文</th>\n",
       "      <th>数学</th>\n",
       "    </tr>\n",
       "  </thead>\n",
       "  <tbody>\n",
       "    <tr>\n",
       "      <td rowspan=\"4\" valign=\"top\">期中</td>\n",
       "      <td rowspan=\"2\" valign=\"top\">雷军</td>\n",
       "      <td>测试一</td>\n",
       "      <td>43</td>\n",
       "      <td>112</td>\n",
       "    </tr>\n",
       "    <tr>\n",
       "      <td>测试二</td>\n",
       "      <td>100</td>\n",
       "      <td>12</td>\n",
       "    </tr>\n",
       "    <tr>\n",
       "      <td rowspan=\"2\" valign=\"top\">李斌</td>\n",
       "      <td>测试一</td>\n",
       "      <td>58</td>\n",
       "      <td>5</td>\n",
       "    </tr>\n",
       "    <tr>\n",
       "      <td>测试二</td>\n",
       "      <td>99</td>\n",
       "      <td>47</td>\n",
       "    </tr>\n",
       "    <tr>\n",
       "      <td rowspan=\"4\" valign=\"top\">期末</td>\n",
       "      <td rowspan=\"2\" valign=\"top\">雷军</td>\n",
       "      <td>测试一</td>\n",
       "      <td>149</td>\n",
       "      <td>75</td>\n",
       "    </tr>\n",
       "    <tr>\n",
       "      <td>测试二</td>\n",
       "      <td>95</td>\n",
       "      <td>90</td>\n",
       "    </tr>\n",
       "    <tr>\n",
       "      <td rowspan=\"2\" valign=\"top\">李斌</td>\n",
       "      <td>测试一</td>\n",
       "      <td>138</td>\n",
       "      <td>147</td>\n",
       "    </tr>\n",
       "    <tr>\n",
       "      <td>测试二</td>\n",
       "      <td>110</td>\n",
       "      <td>0</td>\n",
       "    </tr>\n",
       "  </tbody>\n",
       "</table>\n",
       "</div>"
      ],
      "text/plain": [
       "            语文   数学\n",
       "期中 雷军 测试一   43  112\n",
       "      测试二  100   12\n",
       "   李斌 测试一   58    5\n",
       "      测试二   99   47\n",
       "期末 雷军 测试一  149   75\n",
       "      测试二   95   90\n",
       "   李斌 测试一  138  147\n",
       "      测试二  110    0"
      ]
     },
     "execution_count": 32,
     "metadata": {},
     "output_type": "execute_result"
    }
   ],
   "source": [
    "data['模拟考'][['语文','数学']]"
   ]
  },
  {
   "cell_type": "code",
   "execution_count": 33,
   "metadata": {},
   "outputs": [
    {
     "name": "stdout",
     "output_type": "stream",
     "text": [
      "112\n"
     ]
    }
   ],
   "source": [
    "print(data.loc['期中','雷军','测试一']['模拟考','数学'])"
   ]
  },
  {
   "cell_type": "code",
   "execution_count": 34,
   "metadata": {},
   "outputs": [
    {
     "name": "stdout",
     "output_type": "stream",
     "text": [
      "模拟考  数学    112\n",
      "     语文     43\n",
      "     英语     21\n",
      "     物理     80\n",
      "     化学     31\n",
      "     生物    104\n",
      "正式考  数学     91\n",
      "     语文    122\n",
      "     英语    125\n",
      "     物理     15\n",
      "     化学    149\n",
      "     生物      3\n",
      "Name: (期中, 雷军, 测试一), dtype: int64\n"
     ]
    }
   ],
   "source": [
    "print(data.loc['期中','雷军','测试一'])"
   ]
  },
  {
   "cell_type": "code",
   "execution_count": 35,
   "metadata": {},
   "outputs": [
    {
     "name": "stdout",
     "output_type": "stream",
     "text": [
      "模拟考  数学    112\n",
      "     语文     43\n",
      "     英语     21\n",
      "     物理     80\n",
      "     化学     31\n",
      "     生物    104\n",
      "正式考  数学     91\n",
      "     语文    122\n",
      "     英语    125\n",
      "     物理     15\n",
      "     化学    149\n",
      "     生物      3\n",
      "Name: (期中, 雷军, 测试一), dtype: int64\n"
     ]
    }
   ],
   "source": [
    "print(data.iloc[0])"
   ]
  },
  {
   "cell_type": "code",
   "execution_count": 36,
   "metadata": {},
   "outputs": [
    {
     "data": {
      "text/html": [
       "<div>\n",
       "<style scoped>\n",
       "    .dataframe tbody tr th:only-of-type {\n",
       "        vertical-align: middle;\n",
       "    }\n",
       "\n",
       "    .dataframe tbody tr th {\n",
       "        vertical-align: top;\n",
       "    }\n",
       "\n",
       "    .dataframe thead th {\n",
       "        text-align: right;\n",
       "    }\n",
       "</style>\n",
       "<table border=\"1\" class=\"dataframe\">\n",
       "  <thead>\n",
       "    <tr style=\"text-align: right;\">\n",
       "      <th></th>\n",
       "      <th></th>\n",
       "      <th></th>\n",
       "      <th>数学</th>\n",
       "      <th>语文</th>\n",
       "      <th>英语</th>\n",
       "      <th>物理</th>\n",
       "      <th>化学</th>\n",
       "      <th>生物</th>\n",
       "    </tr>\n",
       "  </thead>\n",
       "  <tbody>\n",
       "    <tr>\n",
       "      <td rowspan=\"4\" valign=\"top\">期中</td>\n",
       "      <td rowspan=\"2\" valign=\"top\">雷军</td>\n",
       "      <td>测试一</td>\n",
       "      <td>91</td>\n",
       "      <td>122</td>\n",
       "      <td>125</td>\n",
       "      <td>15</td>\n",
       "      <td>149</td>\n",
       "      <td>3</td>\n",
       "    </tr>\n",
       "    <tr>\n",
       "      <td>测试二</td>\n",
       "      <td>54</td>\n",
       "      <td>105</td>\n",
       "      <td>2</td>\n",
       "      <td>139</td>\n",
       "      <td>119</td>\n",
       "      <td>147</td>\n",
       "    </tr>\n",
       "    <tr>\n",
       "      <td rowspan=\"2\" valign=\"top\">李斌</td>\n",
       "      <td>测试一</td>\n",
       "      <td>84</td>\n",
       "      <td>128</td>\n",
       "      <td>51</td>\n",
       "      <td>47</td>\n",
       "      <td>47</td>\n",
       "      <td>87</td>\n",
       "    </tr>\n",
       "    <tr>\n",
       "      <td>测试二</td>\n",
       "      <td>82</td>\n",
       "      <td>67</td>\n",
       "      <td>71</td>\n",
       "      <td>69</td>\n",
       "      <td>37</td>\n",
       "      <td>58</td>\n",
       "    </tr>\n",
       "    <tr>\n",
       "      <td rowspan=\"4\" valign=\"top\">期末</td>\n",
       "      <td rowspan=\"2\" valign=\"top\">雷军</td>\n",
       "      <td>测试一</td>\n",
       "      <td>45</td>\n",
       "      <td>46</td>\n",
       "      <td>25</td>\n",
       "      <td>0</td>\n",
       "      <td>108</td>\n",
       "      <td>50</td>\n",
       "    </tr>\n",
       "    <tr>\n",
       "      <td>测试二</td>\n",
       "      <td>70</td>\n",
       "      <td>35</td>\n",
       "      <td>42</td>\n",
       "      <td>77</td>\n",
       "      <td>139</td>\n",
       "      <td>46</td>\n",
       "    </tr>\n",
       "    <tr>\n",
       "      <td rowspan=\"2\" valign=\"top\">李斌</td>\n",
       "      <td>测试一</td>\n",
       "      <td>127</td>\n",
       "      <td>56</td>\n",
       "      <td>121</td>\n",
       "      <td>145</td>\n",
       "      <td>73</td>\n",
       "      <td>30</td>\n",
       "    </tr>\n",
       "    <tr>\n",
       "      <td>测试二</td>\n",
       "      <td>134</td>\n",
       "      <td>128</td>\n",
       "      <td>40</td>\n",
       "      <td>119</td>\n",
       "      <td>115</td>\n",
       "      <td>123</td>\n",
       "    </tr>\n",
       "  </tbody>\n",
       "</table>\n",
       "</div>"
      ],
      "text/plain": [
       "            数学   语文   英语   物理   化学   生物\n",
       "期中 雷军 测试一   91  122  125   15  149    3\n",
       "      测试二   54  105    2  139  119  147\n",
       "   李斌 测试一   84  128   51   47   47   87\n",
       "      测试二   82   67   71   69   37   58\n",
       "期末 雷军 测试一   45   46   25    0  108   50\n",
       "      测试二   70   35   42   77  139   46\n",
       "   李斌 测试一  127   56  121  145   73   30\n",
       "      测试二  134  128   40  119  115  123"
      ]
     },
     "execution_count": 36,
     "metadata": {},
     "output_type": "execute_result"
    }
   ],
   "source": [
    "data['正式考']"
   ]
  },
  {
   "cell_type": "code",
   "execution_count": 38,
   "metadata": {},
   "outputs": [
    {
     "data": {
      "text/html": [
       "<div>\n",
       "<style scoped>\n",
       "    .dataframe tbody tr th:only-of-type {\n",
       "        vertical-align: middle;\n",
       "    }\n",
       "\n",
       "    .dataframe tbody tr th {\n",
       "        vertical-align: top;\n",
       "    }\n",
       "\n",
       "    .dataframe thead th {\n",
       "        text-align: right;\n",
       "    }\n",
       "</style>\n",
       "<table border=\"1\" class=\"dataframe\">\n",
       "  <thead>\n",
       "    <tr style=\"text-align: right;\">\n",
       "      <th></th>\n",
       "      <th>A</th>\n",
       "      <th>B</th>\n",
       "      <th>C</th>\n",
       "      <th>D</th>\n",
       "    </tr>\n",
       "  </thead>\n",
       "  <tbody>\n",
       "    <tr>\n",
       "      <td>a</td>\n",
       "      <td>0</td>\n",
       "      <td>1</td>\n",
       "      <td>2</td>\n",
       "      <td>3</td>\n",
       "    </tr>\n",
       "    <tr>\n",
       "      <td>b</td>\n",
       "      <td>4</td>\n",
       "      <td>5</td>\n",
       "      <td>6</td>\n",
       "      <td>7</td>\n",
       "    </tr>\n",
       "    <tr>\n",
       "      <td>c</td>\n",
       "      <td>8</td>\n",
       "      <td>9</td>\n",
       "      <td>10</td>\n",
       "      <td>11</td>\n",
       "    </tr>\n",
       "    <tr>\n",
       "      <td>d</td>\n",
       "      <td>12</td>\n",
       "      <td>13</td>\n",
       "      <td>14</td>\n",
       "      <td>15</td>\n",
       "    </tr>\n",
       "  </tbody>\n",
       "</table>\n",
       "</div>"
      ],
      "text/plain": [
       "    A   B   C   D\n",
       "a   0   1   2   3\n",
       "b   4   5   6   7\n",
       "c   8   9  10  11\n",
       "d  12  13  14  15"
      ]
     },
     "execution_count": 38,
     "metadata": {},
     "output_type": "execute_result"
    }
   ],
   "source": [
    "data=pd.DataFrame(np.arange(16).reshape(4,4),index=list('abcd'),columns=list('ABCD'))\n",
    "data"
   ]
  },
  {
   "cell_type": "code",
   "execution_count": 40,
   "metadata": {},
   "outputs": [
    {
     "data": {
      "text/html": [
       "<div>\n",
       "<style scoped>\n",
       "    .dataframe tbody tr th:only-of-type {\n",
       "        vertical-align: middle;\n",
       "    }\n",
       "\n",
       "    .dataframe tbody tr th {\n",
       "        vertical-align: top;\n",
       "    }\n",
       "\n",
       "    .dataframe thead th {\n",
       "        text-align: right;\n",
       "    }\n",
       "</style>\n",
       "<table border=\"1\" class=\"dataframe\">\n",
       "  <thead>\n",
       "    <tr style=\"text-align: right;\">\n",
       "      <th></th>\n",
       "      <th>A</th>\n",
       "      <th>B</th>\n",
       "      <th>C</th>\n",
       "      <th>D</th>\n",
       "    </tr>\n",
       "  </thead>\n",
       "  <tbody>\n",
       "    <tr>\n",
       "      <td>a</td>\n",
       "      <td>0</td>\n",
       "      <td>1</td>\n",
       "      <td>2</td>\n",
       "      <td>3</td>\n",
       "    </tr>\n",
       "  </tbody>\n",
       "</table>\n",
       "</div>"
      ],
      "text/plain": [
       "   A  B  C  D\n",
       "a  0  1  2  3"
      ]
     },
     "execution_count": 40,
     "metadata": {},
     "output_type": "execute_result"
    }
   ],
   "source": [
    "data.loc[(data['A']==0)|(data['B']==2)]"
   ]
  },
  {
   "cell_type": "code",
   "execution_count": 42,
   "metadata": {},
   "outputs": [
    {
     "data": {
      "text/html": [
       "<div>\n",
       "<style scoped>\n",
       "    .dataframe tbody tr th:only-of-type {\n",
       "        vertical-align: middle;\n",
       "    }\n",
       "\n",
       "    .dataframe tbody tr th {\n",
       "        vertical-align: top;\n",
       "    }\n",
       "\n",
       "    .dataframe thead th {\n",
       "        text-align: right;\n",
       "    }\n",
       "</style>\n",
       "<table border=\"1\" class=\"dataframe\">\n",
       "  <thead>\n",
       "    <tr style=\"text-align: right;\">\n",
       "      <th></th>\n",
       "      <th>A</th>\n",
       "      <th>B</th>\n",
       "      <th>C</th>\n",
       "      <th>D</th>\n",
       "    </tr>\n",
       "  </thead>\n",
       "  <tbody>\n",
       "    <tr>\n",
       "      <td>a</td>\n",
       "      <td>0</td>\n",
       "      <td>1</td>\n",
       "      <td>2</td>\n",
       "      <td>3</td>\n",
       "    </tr>\n",
       "  </tbody>\n",
       "</table>\n",
       "</div>"
      ],
      "text/plain": [
       "   A  B  C  D\n",
       "a  0  1  2  3"
      ]
     },
     "execution_count": 42,
     "metadata": {},
     "output_type": "execute_result"
    }
   ],
   "source": [
    "data[(data['A'].isin([0]))|(data['B'].isin([2]))]"
   ]
  },
  {
   "cell_type": "code",
   "execution_count": null,
   "metadata": {},
   "outputs": [],
   "source": []
  }
 ],
 "metadata": {
  "kernelspec": {
   "display_name": "Python 3",
   "language": "python",
   "name": "python3"
  },
  "language_info": {
   "codemirror_mode": {
    "name": "ipython",
    "version": 3
   },
   "file_extension": ".py",
   "mimetype": "text/x-python",
   "name": "python",
   "nbconvert_exporter": "python",
   "pygments_lexer": "ipython3",
   "version": "3.7.4"
  }
 },
 "nbformat": 4,
 "nbformat_minor": 2
}
