{
 "cells": [
  {
   "cell_type": "code",
   "execution_count": 1,
   "metadata": {},
   "outputs": [],
   "source": [
    "import numpy as np\n",
    "\n",
    "# Generate random numbers\n",
    "np.random.seed(2)\n",
    "x = np.random.rand(500, 3)\n",
    "\n",
    "y = x.dot(np.array([4.2, 5.7, 10.8]))"
   ]
  },
  {
   "cell_type": "markdown",
   "metadata": {},
   "source": [
    "### Method 1\n",
    "Try to use `LinearRegression` in **sklearn**"
   ]
  },
  {
   "cell_type": "code",
   "execution_count": 3,
   "metadata": {},
   "outputs": [
    {
     "name": "stdout",
     "output_type": "stream",
     "text": [
      "Estimated coefficient is [ 4.2  5.7 10.8]\n",
      "R2 is 1.0\n",
      "Prediction is [85.2]\n"
     ]
    }
   ],
   "source": [
    "from sklearn.linear_model import LinearRegression\n",
    "import matplotlib.pyplot as plt\n",
    "%matplotlib inline\n",
    "\n",
    "lr = LinearRegression(fit_intercept=True)\n",
    "lr.fit(x, y)\n",
    "print(\"Estimated coefficient is %s\" % (lr.coef_))\n",
    "print(\"R2 is %s\" % (lr.score(x, y)))\n",
    "\n",
    "x_test = np.array([2, 4, 5]).reshape(1, -1)\n",
    "y_hat = lr.predict(x_test)\n",
    "print(\"Prediction is %s\" % y_hat)"
   ]
  },
  {
   "cell_type": "markdown",
   "metadata": {},
   "source": [
    "### Method 2\n",
    "Try to use **least square matrix**"
   ]
  },
  {
   "cell_type": "code",
   "execution_count": 4,
   "metadata": {},
   "outputs": [
    {
     "name": "stdout",
     "output_type": "stream",
     "text": [
      "Estimated coefficient is [ 4.2  5.7 10.8]\n",
      "Prediction is [85.2]\n"
     ]
    }
   ],
   "source": [
    "class LR_LS():\n",
    "    def __init_(self):\n",
    "        self.w = None\n",
    "        \n",
    "    def fit(self, X, y):\n",
    "        self.w = np.linalg.inv(X.T.dot(X)).dot(X.T).dot(y)\n",
    "    \n",
    "    def predict(self, X):\n",
    "        y_pred = X.dot(self.w)\n",
    "        return y_pred\n",
    "    \n",
    "if __name__ == \"__main__\":\n",
    "    lr_ls = LR_LS()\n",
    "    lr_ls.fit(x, y)\n",
    "    print(\"Estimated coefficient is %s\" % (lr_ls.w))\n",
    "    x_test = np.array([2, 4, 5]).reshape(1, -1)\n",
    "    print(\"Prediction is %s\" % (lr_ls.predict(x_test)))"
   ]
  },
  {
   "cell_type": "code",
   "execution_count": null,
   "metadata": {},
   "outputs": [],
   "source": []
  }
 ],
 "metadata": {
  "kernelspec": {
   "display_name": "Python 3",
   "language": "python",
   "name": "python3"
  },
  "language_info": {
   "codemirror_mode": {
    "name": "ipython",
    "version": 3
   },
   "file_extension": ".py",
   "mimetype": "text/x-python",
   "name": "python",
   "nbconvert_exporter": "python",
   "pygments_lexer": "ipython3",
   "version": "3.7.4"
  }
 },
 "nbformat": 4,
 "nbformat_minor": 2
}
